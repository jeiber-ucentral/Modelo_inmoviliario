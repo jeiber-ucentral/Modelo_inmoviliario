{
  "cells": [
    {
      "cell_type": "markdown",
      "metadata": {
        "id": "tSkytPqsO_HH"
      },
      "source": [
        "# Prototipo para proceso ETL de la base de datos\n"
      ]
    },
    {
      "cell_type": "markdown",
      "metadata": {
        "id": "isC1EaIIQY1f"
      },
      "source": [
        "## 1. Cargue de librerias y base de datos"
      ]
    },
    {
      "cell_type": "code",
      "execution_count": 1,
      "metadata": {
        "colab": {
          "base_uri": "https://localhost:8080/"
        },
        "id": "shk0HASyMxmW",
        "outputId": "a27f2b76-a11a-45ce-8cbc-49c9ecd86783"
      },
      "outputs": [],
      "source": [
        "## Cargue de librerias\n",
        "import pandas as pd\n",
        "import numpy as np\n",
        "import re"
      ]
    },
    {
      "cell_type": "code",
      "execution_count": 2,
      "metadata": {
        "colab": {
          "base_uri": "https://localhost:8080/",
          "height": 310
        },
        "id": "8qJEiayVO-pO",
        "outputId": "0a2b9bdd-828b-49cf-bb84-2d25c01a313d"
      },
      "outputs": [
        {
          "data": {
            "text/html": [
              "<div>\n",
              "<style scoped>\n",
              "    .dataframe tbody tr th:only-of-type {\n",
              "        vertical-align: middle;\n",
              "    }\n",
              "\n",
              "    .dataframe tbody tr th {\n",
              "        vertical-align: top;\n",
              "    }\n",
              "\n",
              "    .dataframe thead th {\n",
              "        text-align: right;\n",
              "    }\n",
              "</style>\n",
              "<table border=\"1\" class=\"dataframe\">\n",
              "  <thead>\n",
              "    <tr style=\"text-align: right;\">\n",
              "      <th></th>\n",
              "      <th>Posted On</th>\n",
              "      <th>BHK</th>\n",
              "      <th>Rent</th>\n",
              "      <th>Size</th>\n",
              "      <th>Floor</th>\n",
              "      <th>Area Type</th>\n",
              "      <th>Area Locality</th>\n",
              "      <th>City</th>\n",
              "      <th>Furnishing Status</th>\n",
              "      <th>Tenant Preferred</th>\n",
              "      <th>Bathroom</th>\n",
              "      <th>Point of Contact</th>\n",
              "    </tr>\n",
              "  </thead>\n",
              "  <tbody>\n",
              "    <tr>\n",
              "      <th>0</th>\n",
              "      <td>2022-05-18</td>\n",
              "      <td>2</td>\n",
              "      <td>10000</td>\n",
              "      <td>1100</td>\n",
              "      <td>Ground out of 2</td>\n",
              "      <td>Super Area</td>\n",
              "      <td>Bandel</td>\n",
              "      <td>Kolkata</td>\n",
              "      <td>Unfurnished</td>\n",
              "      <td>Bachelors/Family</td>\n",
              "      <td>2</td>\n",
              "      <td>Contact Owner</td>\n",
              "    </tr>\n",
              "    <tr>\n",
              "      <th>1</th>\n",
              "      <td>2022-05-13</td>\n",
              "      <td>2</td>\n",
              "      <td>20000</td>\n",
              "      <td>800</td>\n",
              "      <td>1 out of 3</td>\n",
              "      <td>Super Area</td>\n",
              "      <td>Phool Bagan, Kankurgachi</td>\n",
              "      <td>Kolkata</td>\n",
              "      <td>Semi-Furnished</td>\n",
              "      <td>Bachelors/Family</td>\n",
              "      <td>1</td>\n",
              "      <td>Contact Owner</td>\n",
              "    </tr>\n",
              "    <tr>\n",
              "      <th>2</th>\n",
              "      <td>2022-05-16</td>\n",
              "      <td>2</td>\n",
              "      <td>17000</td>\n",
              "      <td>1000</td>\n",
              "      <td>1 out of 3</td>\n",
              "      <td>Super Area</td>\n",
              "      <td>Salt Lake City Sector 2</td>\n",
              "      <td>Kolkata</td>\n",
              "      <td>Semi-Furnished</td>\n",
              "      <td>Bachelors/Family</td>\n",
              "      <td>1</td>\n",
              "      <td>Contact Owner</td>\n",
              "    </tr>\n",
              "    <tr>\n",
              "      <th>3</th>\n",
              "      <td>2022-07-04</td>\n",
              "      <td>2</td>\n",
              "      <td>10000</td>\n",
              "      <td>800</td>\n",
              "      <td>1 out of 2</td>\n",
              "      <td>Super Area</td>\n",
              "      <td>Dumdum Park</td>\n",
              "      <td>Kolkata</td>\n",
              "      <td>Unfurnished</td>\n",
              "      <td>Bachelors/Family</td>\n",
              "      <td>1</td>\n",
              "      <td>Contact Owner</td>\n",
              "    </tr>\n",
              "    <tr>\n",
              "      <th>4</th>\n",
              "      <td>2022-05-09</td>\n",
              "      <td>2</td>\n",
              "      <td>7500</td>\n",
              "      <td>850</td>\n",
              "      <td>1 out of 2</td>\n",
              "      <td>Carpet Area</td>\n",
              "      <td>South Dum Dum</td>\n",
              "      <td>Kolkata</td>\n",
              "      <td>Unfurnished</td>\n",
              "      <td>Bachelors</td>\n",
              "      <td>1</td>\n",
              "      <td>Contact Owner</td>\n",
              "    </tr>\n",
              "  </tbody>\n",
              "</table>\n",
              "</div>"
            ],
            "text/plain": [
              "    Posted On  BHK   Rent  Size            Floor    Area Type  \\\n",
              "0  2022-05-18    2  10000  1100  Ground out of 2   Super Area   \n",
              "1  2022-05-13    2  20000   800       1 out of 3   Super Area   \n",
              "2  2022-05-16    2  17000  1000       1 out of 3   Super Area   \n",
              "3  2022-07-04    2  10000   800       1 out of 2   Super Area   \n",
              "4  2022-05-09    2   7500   850       1 out of 2  Carpet Area   \n",
              "\n",
              "              Area Locality     City Furnishing Status  Tenant Preferred  \\\n",
              "0                    Bandel  Kolkata       Unfurnished  Bachelors/Family   \n",
              "1  Phool Bagan, Kankurgachi  Kolkata    Semi-Furnished  Bachelors/Family   \n",
              "2   Salt Lake City Sector 2  Kolkata    Semi-Furnished  Bachelors/Family   \n",
              "3               Dumdum Park  Kolkata       Unfurnished  Bachelors/Family   \n",
              "4             South Dum Dum  Kolkata       Unfurnished         Bachelors   \n",
              "\n",
              "   Bathroom Point of Contact  \n",
              "0         2    Contact Owner  \n",
              "1         1    Contact Owner  \n",
              "2         1    Contact Owner  \n",
              "3         1    Contact Owner  \n",
              "4         1    Contact Owner  "
            ]
          },
          "execution_count": 2,
          "metadata": {},
          "output_type": "execute_result"
        }
      ],
      "source": [
        "## Cargue de la base de datos\n",
        "ruta = input(\"Ingresar la ruta del archivo House_Rent_Dataset.csv (sin comillas): \").strip()\n",
        "original_df_0 = pd.read_csv(ruta, sep = \",\")\n",
        "original_df_0.head()"
      ]
    },
    {
      "cell_type": "markdown",
      "metadata": {
        "id": "AsDxPBOHQejQ"
      },
      "source": [
        "## 2. Ajuste del formato de los datos\n",
        "- Formato de las variables : corroborar que sean coherentes y transformar por si acaso\n",
        "- Variable Floor: Revisar si es mejor dividirla en dos: piso de residencia // cant de pisos del edificio\n",
        "- Dicotomizando variables categoricas (trato especial a Tenant Preferred, esta es dicotoma sin omitir registro para categorias compartidas)\n",
        "- Seleccion final de variables : solo las que se emplearan\n",
        "\n",
        "Estos son los pasos que se deberán plasmar en el archivo data_loader.  \n",
        "\n",
        "Que genere el cargue de datos y tambien realice la depuración de los mismos para ya luego entrenar / usar el modelo propuesto"
      ]
    },
    {
      "cell_type": "code",
      "execution_count": 4,
      "metadata": {
        "colab": {
          "base_uri": "https://localhost:8080/"
        },
        "id": "NXVpGICPO-t2",
        "outputId": "e1b1dc99-91f4-4bca-af1e-5cfae0a68596"
      },
      "outputs": [
        {
          "name": "stdout",
          "output_type": "stream",
          "text": [
            "<class 'pandas.core.frame.DataFrame'>\n",
            "RangeIndex: 4746 entries, 0 to 4745\n",
            "Data columns (total 12 columns):\n",
            " #   Column             Non-Null Count  Dtype \n",
            "---  ------             --------------  ----- \n",
            " 0   Posted On          4746 non-null   object\n",
            " 1   BHK                4746 non-null   int64 \n",
            " 2   Rent               4746 non-null   int64 \n",
            " 3   Size               4746 non-null   int64 \n",
            " 4   Floor              4746 non-null   object\n",
            " 5   Area Type          4746 non-null   object\n",
            " 6   Area Locality      4746 non-null   object\n",
            " 7   City               4746 non-null   object\n",
            " 8   Furnishing Status  4746 non-null   object\n",
            " 9   Tenant Preferred   4746 non-null   object\n",
            " 10  Bathroom           4746 non-null   int64 \n",
            " 11  Point of Contact   4746 non-null   object\n",
            "dtypes: int64(4), object(8)\n",
            "memory usage: 445.1+ KB\n"
          ]
        }
      ],
      "source": [
        "## Revisiones de formato de variables\n",
        "original_df_0.info() # De paso no hay nulos 😎\n",
        "original_df = original_df_0.copy()"
      ]
    },
    {
      "cell_type": "code",
      "execution_count": 5,
      "metadata": {
        "id": "wnbUeGwfO-wH"
      },
      "outputs": [],
      "source": [
        "# # Ajuste variable floor\n",
        "original_df['residence_floor'] = original_df['Floor'].str.split(' out of ', expand=True)[0]\n",
        "original_df['residence_max_floor'] = original_df['Floor'].str.split(' out of ', expand=True)[1]\n",
        "\n",
        "# Con nombre de piso\n",
        "original_df['residence_floor'] = original_df['residence_floor'].apply(lambda x: re.sub(r'Ground', '1', x))         # Ground se vuelve el piso 1\n",
        "original_df['residence_floor'] = original_df['residence_floor'].apply(lambda x: re.sub(r'Lower Basement', '1', x)) # Lower Basement se vuelve el piso 1\n",
        "original_df['residence_floor'] = original_df.apply(lambda row: re.sub(r'Upper Basement', row['residence_max_floor'], row['residence_floor']) if row['residence_floor'] == 'Upper Basement' else row['residence_floor'], axis=1)\n",
        "original_df['residence_max_floor'] = original_df.apply(lambda row: row['residence_floor'] if pd.isnull(row['residence_max_floor']) else row['residence_max_floor'], axis=1)\n",
        "\n",
        "# Convertir a numericas\n",
        "original_df['residence_floor'] = original_df['residence_floor'].astype(int)\n",
        "original_df['residence_max_floor'] = original_df['residence_max_floor'].astype(int)"
      ]
    },
    {
      "cell_type": "code",
      "execution_count": 6,
      "metadata": {
        "colab": {
          "base_uri": "https://localhost:8080/",
          "height": 201
        },
        "id": "p_afUFKIZgP7",
        "outputId": "c5b8ab10-96f5-4217-8095-2b147c1a43d0"
      },
      "outputs": [
        {
          "data": {
            "text/html": [
              "<div>\n",
              "<style scoped>\n",
              "    .dataframe tbody tr th:only-of-type {\n",
              "        vertical-align: middle;\n",
              "    }\n",
              "\n",
              "    .dataframe tbody tr th {\n",
              "        vertical-align: top;\n",
              "    }\n",
              "\n",
              "    .dataframe thead th {\n",
              "        text-align: right;\n",
              "    }\n",
              "</style>\n",
              "<table border=\"1\" class=\"dataframe\">\n",
              "  <thead>\n",
              "    <tr style=\"text-align: right;\">\n",
              "      <th></th>\n",
              "      <th>Posted On</th>\n",
              "      <th>BHK</th>\n",
              "      <th>Rent</th>\n",
              "      <th>Size</th>\n",
              "      <th>Floor</th>\n",
              "      <th>Area Type</th>\n",
              "      <th>Area Locality</th>\n",
              "      <th>City</th>\n",
              "      <th>Furnishing Status</th>\n",
              "      <th>Tenant Preferred</th>\n",
              "      <th>Bathroom</th>\n",
              "      <th>Point of Contact</th>\n",
              "      <th>residence_floor</th>\n",
              "      <th>residence_max_floor</th>\n",
              "    </tr>\n",
              "  </thead>\n",
              "  <tbody>\n",
              "    <tr>\n",
              "      <th>105</th>\n",
              "      <td>2022-06-06</td>\n",
              "      <td>1</td>\n",
              "      <td>6000</td>\n",
              "      <td>600</td>\n",
              "      <td>8 out of 5</td>\n",
              "      <td>Carpet Area</td>\n",
              "      <td>Pratiraksha Nagar</td>\n",
              "      <td>Kolkata</td>\n",
              "      <td>Unfurnished</td>\n",
              "      <td>Bachelors/Family</td>\n",
              "      <td>1</td>\n",
              "      <td>Contact Owner</td>\n",
              "      <td>8</td>\n",
              "      <td>5</td>\n",
              "    </tr>\n",
              "    <tr>\n",
              "      <th>161</th>\n",
              "      <td>2022-06-27</td>\n",
              "      <td>2</td>\n",
              "      <td>10000</td>\n",
              "      <td>450</td>\n",
              "      <td>2 out of 1</td>\n",
              "      <td>Carpet Area</td>\n",
              "      <td>Behala</td>\n",
              "      <td>Kolkata</td>\n",
              "      <td>Semi-Furnished</td>\n",
              "      <td>Bachelors/Family</td>\n",
              "      <td>2</td>\n",
              "      <td>Contact Owner</td>\n",
              "      <td>2</td>\n",
              "      <td>1</td>\n",
              "    </tr>\n",
              "  </tbody>\n",
              "</table>\n",
              "</div>"
            ],
            "text/plain": [
              "      Posted On  BHK   Rent  Size       Floor    Area Type      Area Locality  \\\n",
              "105  2022-06-06    1   6000   600  8 out of 5  Carpet Area  Pratiraksha Nagar   \n",
              "161  2022-06-27    2  10000   450  2 out of 1  Carpet Area             Behala   \n",
              "\n",
              "        City Furnishing Status  Tenant Preferred  Bathroom Point of Contact  \\\n",
              "105  Kolkata       Unfurnished  Bachelors/Family         1    Contact Owner   \n",
              "161  Kolkata    Semi-Furnished  Bachelors/Family         2    Contact Owner   \n",
              "\n",
              "     residence_floor  residence_max_floor  \n",
              "105                8                    5  \n",
              "161                2                    1  "
            ]
          },
          "execution_count": 6,
          "metadata": {},
          "output_type": "execute_result"
        }
      ],
      "source": [
        "# Revision de inconsistencias\n",
        "original_df[original_df['residence_floor'] > original_df['residence_max_floor']]"
      ]
    },
    {
      "cell_type": "code",
      "execution_count": 7,
      "metadata": {
        "id": "6hhXquIYZ2Bq"
      },
      "outputs": [],
      "source": [
        "# # Revision variable Tenant Preferred\n",
        "original_df[\"Tenant_bachelors\"] = original_df[\"Tenant Preferred\"].apply(lambda x: 1 if \"Bachelors\" in x else 0)\n",
        "original_df[\"Tenant_family\"] = original_df[\"Tenant Preferred\"].apply(lambda x: 1 if \"Family\" in x else 0)"
      ]
    },
    {
      "cell_type": "code",
      "execution_count": 8,
      "metadata": {
        "id": "RgXNUAFsdmNQ"
      },
      "outputs": [],
      "source": [
        "# # Selección de variables\n",
        "original_df = original_df[['Rent',\t'BHK',\t'Size',\t'Area Type',\t'City',\t'Furnishing Status',\t'Bathroom',\t'Point of Contact',\t'residence_floor',\t'residence_max_floor',\t'Tenant_bachelors',\t'Tenant_family']]"
      ]
    },
    {
      "cell_type": "code",
      "execution_count": 9,
      "metadata": {
        "colab": {
          "base_uri": "https://localhost:8080/"
        },
        "id": "qf77zzs1Z2F6",
        "outputId": "793a078f-ab32-49b1-c0ba-05ab2a2e05f8"
      },
      "outputs": [
        {
          "name": "stdout",
          "output_type": "stream",
          "text": [
            "<class 'pandas.core.frame.DataFrame'>\n",
            "RangeIndex: 4746 entries, 0 to 4745\n",
            "Data columns (total 12 columns):\n",
            " #   Column               Non-Null Count  Dtype \n",
            "---  ------               --------------  ----- \n",
            " 0   Rent                 4746 non-null   int64 \n",
            " 1   BHK                  4746 non-null   int64 \n",
            " 2   Size                 4746 non-null   int64 \n",
            " 3   Area Type            4746 non-null   object\n",
            " 4   City                 4746 non-null   object\n",
            " 5   Furnishing Status    4746 non-null   object\n",
            " 6   Bathroom             4746 non-null   int64 \n",
            " 7   Point of Contact     4746 non-null   object\n",
            " 8   residence_floor      4746 non-null   int32 \n",
            " 9   residence_max_floor  4746 non-null   int32 \n",
            " 10  Tenant_bachelors     4746 non-null   int64 \n",
            " 11  Tenant_family        4746 non-null   int64 \n",
            "dtypes: int32(2), int64(6), object(4)\n",
            "memory usage: 408.0+ KB\n"
          ]
        }
      ],
      "source": [
        "# original_df[:5]\n",
        "original_df.info()"
      ]
    },
    {
      "cell_type": "code",
      "execution_count": 10,
      "metadata": {
        "colab": {
          "base_uri": "https://localhost:8080/"
        },
        "id": "1Ybus8DxZ2Hw",
        "outputId": "ca688a9a-763e-4c0c-a352-fae045ad2274"
      },
      "outputs": [
        {
          "name": "stdout",
          "output_type": "stream",
          "text": [
            "<class 'pandas.core.frame.DataFrame'>\n",
            "RangeIndex: 4746 entries, 0 to 4745\n",
            "Data columns (total 19 columns):\n",
            " #   Column                            Non-Null Count  Dtype\n",
            "---  ------                            --------------  -----\n",
            " 0   Rent                              4746 non-null   int32\n",
            " 1   BHK                               4746 non-null   int32\n",
            " 2   Size                              4746 non-null   int32\n",
            " 3   Bathroom                          4746 non-null   int32\n",
            " 4   residence_floor                   4746 non-null   int32\n",
            " 5   residence_max_floor               4746 non-null   int32\n",
            " 6   Tenant_bachelors                  4746 non-null   int32\n",
            " 7   Tenant_family                     4746 non-null   int32\n",
            " 8   Area Type_Carpet Area             4746 non-null   int32\n",
            " 9   Area Type_Super Area              4746 non-null   int32\n",
            " 10  City_Chennai                      4746 non-null   int32\n",
            " 11  City_Delhi                        4746 non-null   int32\n",
            " 12  City_Hyderabad                    4746 non-null   int32\n",
            " 13  City_Kolkata                      4746 non-null   int32\n",
            " 14  City_Mumbai                       4746 non-null   int32\n",
            " 15  Furnishing Status_Semi-Furnished  4746 non-null   int32\n",
            " 16  Furnishing Status_Unfurnished     4746 non-null   int32\n",
            " 17  Point of Contact_Contact Builder  4746 non-null   int32\n",
            " 18  Point of Contact_Contact Owner    4746 non-null   int32\n",
            "dtypes: int32(19)\n",
            "memory usage: 352.4 KB\n"
          ]
        }
      ],
      "source": [
        "# Dicotomizando caracteristicas tipo object\n",
        "original_df = pd.get_dummies(original_df, columns=['Area Type', 'City', 'Furnishing Status', 'Point of Contact'], drop_first=True).astype(int)\n",
        "original_df.info()"
      ]
    },
    {
      "cell_type": "code",
      "execution_count": 11,
      "metadata": {
        "colab": {
          "base_uri": "https://localhost:8080/",
          "height": 261
        },
        "id": "3Hc4xbbTZ2KR",
        "outputId": "4999674b-6d67-4f7e-fb0d-172dbb7a7ce2"
      },
      "outputs": [
        {
          "data": {
            "text/html": [
              "<div>\n",
              "<style scoped>\n",
              "    .dataframe tbody tr th:only-of-type {\n",
              "        vertical-align: middle;\n",
              "    }\n",
              "\n",
              "    .dataframe tbody tr th {\n",
              "        vertical-align: top;\n",
              "    }\n",
              "\n",
              "    .dataframe thead th {\n",
              "        text-align: right;\n",
              "    }\n",
              "</style>\n",
              "<table border=\"1\" class=\"dataframe\">\n",
              "  <thead>\n",
              "    <tr style=\"text-align: right;\">\n",
              "      <th></th>\n",
              "      <th>Rent</th>\n",
              "      <th>BHK</th>\n",
              "      <th>Size</th>\n",
              "      <th>Bathroom</th>\n",
              "      <th>residence_floor</th>\n",
              "      <th>residence_max_floor</th>\n",
              "      <th>Tenant_bachelors</th>\n",
              "      <th>Tenant_family</th>\n",
              "      <th>Area Type_Carpet Area</th>\n",
              "      <th>Area Type_Super Area</th>\n",
              "      <th>City_Chennai</th>\n",
              "      <th>City_Delhi</th>\n",
              "      <th>City_Hyderabad</th>\n",
              "      <th>City_Kolkata</th>\n",
              "      <th>City_Mumbai</th>\n",
              "      <th>Furnishing Status_Semi-Furnished</th>\n",
              "      <th>Furnishing Status_Unfurnished</th>\n",
              "      <th>Point of Contact_Contact Builder</th>\n",
              "      <th>Point of Contact_Contact Owner</th>\n",
              "    </tr>\n",
              "  </thead>\n",
              "  <tbody>\n",
              "    <tr>\n",
              "      <th>0</th>\n",
              "      <td>10000</td>\n",
              "      <td>2</td>\n",
              "      <td>1100</td>\n",
              "      <td>2</td>\n",
              "      <td>1</td>\n",
              "      <td>2</td>\n",
              "      <td>1</td>\n",
              "      <td>1</td>\n",
              "      <td>0</td>\n",
              "      <td>1</td>\n",
              "      <td>0</td>\n",
              "      <td>0</td>\n",
              "      <td>0</td>\n",
              "      <td>1</td>\n",
              "      <td>0</td>\n",
              "      <td>0</td>\n",
              "      <td>1</td>\n",
              "      <td>0</td>\n",
              "      <td>1</td>\n",
              "    </tr>\n",
              "    <tr>\n",
              "      <th>1</th>\n",
              "      <td>20000</td>\n",
              "      <td>2</td>\n",
              "      <td>800</td>\n",
              "      <td>1</td>\n",
              "      <td>1</td>\n",
              "      <td>3</td>\n",
              "      <td>1</td>\n",
              "      <td>1</td>\n",
              "      <td>0</td>\n",
              "      <td>1</td>\n",
              "      <td>0</td>\n",
              "      <td>0</td>\n",
              "      <td>0</td>\n",
              "      <td>1</td>\n",
              "      <td>0</td>\n",
              "      <td>1</td>\n",
              "      <td>0</td>\n",
              "      <td>0</td>\n",
              "      <td>1</td>\n",
              "    </tr>\n",
              "    <tr>\n",
              "      <th>2</th>\n",
              "      <td>17000</td>\n",
              "      <td>2</td>\n",
              "      <td>1000</td>\n",
              "      <td>1</td>\n",
              "      <td>1</td>\n",
              "      <td>3</td>\n",
              "      <td>1</td>\n",
              "      <td>1</td>\n",
              "      <td>0</td>\n",
              "      <td>1</td>\n",
              "      <td>0</td>\n",
              "      <td>0</td>\n",
              "      <td>0</td>\n",
              "      <td>1</td>\n",
              "      <td>0</td>\n",
              "      <td>1</td>\n",
              "      <td>0</td>\n",
              "      <td>0</td>\n",
              "      <td>1</td>\n",
              "    </tr>\n",
              "    <tr>\n",
              "      <th>3</th>\n",
              "      <td>10000</td>\n",
              "      <td>2</td>\n",
              "      <td>800</td>\n",
              "      <td>1</td>\n",
              "      <td>1</td>\n",
              "      <td>2</td>\n",
              "      <td>1</td>\n",
              "      <td>1</td>\n",
              "      <td>0</td>\n",
              "      <td>1</td>\n",
              "      <td>0</td>\n",
              "      <td>0</td>\n",
              "      <td>0</td>\n",
              "      <td>1</td>\n",
              "      <td>0</td>\n",
              "      <td>0</td>\n",
              "      <td>1</td>\n",
              "      <td>0</td>\n",
              "      <td>1</td>\n",
              "    </tr>\n",
              "    <tr>\n",
              "      <th>4</th>\n",
              "      <td>7500</td>\n",
              "      <td>2</td>\n",
              "      <td>850</td>\n",
              "      <td>1</td>\n",
              "      <td>1</td>\n",
              "      <td>2</td>\n",
              "      <td>1</td>\n",
              "      <td>0</td>\n",
              "      <td>1</td>\n",
              "      <td>0</td>\n",
              "      <td>0</td>\n",
              "      <td>0</td>\n",
              "      <td>0</td>\n",
              "      <td>1</td>\n",
              "      <td>0</td>\n",
              "      <td>0</td>\n",
              "      <td>1</td>\n",
              "      <td>0</td>\n",
              "      <td>1</td>\n",
              "    </tr>\n",
              "  </tbody>\n",
              "</table>\n",
              "</div>"
            ],
            "text/plain": [
              "    Rent  BHK  Size  Bathroom  residence_floor  residence_max_floor  \\\n",
              "0  10000    2  1100         2                1                    2   \n",
              "1  20000    2   800         1                1                    3   \n",
              "2  17000    2  1000         1                1                    3   \n",
              "3  10000    2   800         1                1                    2   \n",
              "4   7500    2   850         1                1                    2   \n",
              "\n",
              "   Tenant_bachelors  Tenant_family  Area Type_Carpet Area  \\\n",
              "0                 1              1                      0   \n",
              "1                 1              1                      0   \n",
              "2                 1              1                      0   \n",
              "3                 1              1                      0   \n",
              "4                 1              0                      1   \n",
              "\n",
              "   Area Type_Super Area  City_Chennai  City_Delhi  City_Hyderabad  \\\n",
              "0                     1             0           0               0   \n",
              "1                     1             0           0               0   \n",
              "2                     1             0           0               0   \n",
              "3                     1             0           0               0   \n",
              "4                     0             0           0               0   \n",
              "\n",
              "   City_Kolkata  City_Mumbai  Furnishing Status_Semi-Furnished  \\\n",
              "0             1            0                                 0   \n",
              "1             1            0                                 1   \n",
              "2             1            0                                 1   \n",
              "3             1            0                                 0   \n",
              "4             1            0                                 0   \n",
              "\n",
              "   Furnishing Status_Unfurnished  Point of Contact_Contact Builder  \\\n",
              "0                              1                                 0   \n",
              "1                              0                                 0   \n",
              "2                              0                                 0   \n",
              "3                              1                                 0   \n",
              "4                              1                                 0   \n",
              "\n",
              "   Point of Contact_Contact Owner  \n",
              "0                               1  \n",
              "1                               1  \n",
              "2                               1  \n",
              "3                               1  \n",
              "4                               1  "
            ]
          },
          "execution_count": 11,
          "metadata": {},
          "output_type": "execute_result"
        }
      ],
      "source": [
        "original_df[:5]"
      ]
    },
    {
      "cell_type": "code",
      "execution_count": 12,
      "metadata": {
        "id": "RWYSpnDClbrQ"
      },
      "outputs": [],
      "source": [
        "original_df.to_csv('House_Rent_Dataset_cleaned.csv', index=False)"
      ]
    },
    {
      "cell_type": "code",
      "execution_count": null,
      "metadata": {
        "id": "nfs8nbWubTDI"
      },
      "outputs": [],
      "source": []
    },
    {
      "cell_type": "code",
      "execution_count": null,
      "metadata": {
        "id": "0p8iOiCEbTFg"
      },
      "outputs": [],
      "source": []
    }
  ],
  "metadata": {
    "colab": {
      "provenance": []
    },
    "kernelspec": {
      "display_name": "base",
      "language": "python",
      "name": "python3"
    },
    "language_info": {
      "codemirror_mode": {
        "name": "ipython",
        "version": 3
      },
      "file_extension": ".py",
      "mimetype": "text/x-python",
      "name": "python",
      "nbconvert_exporter": "python",
      "pygments_lexer": "ipython3",
      "version": "3.10.9"
    }
  },
  "nbformat": 4,
  "nbformat_minor": 0
}

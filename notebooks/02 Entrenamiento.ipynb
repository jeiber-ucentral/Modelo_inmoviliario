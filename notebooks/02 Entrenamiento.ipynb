{
  "cells": [
    {
      "cell_type": "markdown",
      "metadata": {
        "id": "HGg3OPrz60sX"
      },
      "source": [
        "# Entrenamiento de la red backpropagation"
      ]
    },
    {
      "cell_type": "code",
      "execution_count": 1,
      "metadata": {
        "colab": {
          "base_uri": "https://localhost:8080/"
        },
        "id": "bIEcZGcd67v3",
        "outputId": "6d3364d7-809d-468d-9bda-455e5fbd2f3a"
      },
      "outputs": [],
      "source": [
        "# Cargue de modulos\n",
        "import pandas as pd\n",
        "import numpy as np\n",
        "import warnings\n",
        "warnings.filterwarnings(\"ignore\")\n",
        "import re\n",
        "import os\n",
        "\n",
        "from sklearn.model_selection import train_test_split\n",
        "from sklearn.preprocessing import StandardScaler\n",
        "from sklearn.metrics import mean_squared_error, mean_absolute_error, mean_absolute_percentage_error, r2_score\n",
        "\n",
        "import matplotlib.pyplot as plt\n",
        "\n",
        "import tensorflow as tf\n",
        "from tensorflow import keras\n",
        "from tensorflow.keras import layers\n",
        "from tensorflow.keras import regularizers"
      ]
    },
    {
      "cell_type": "code",
      "execution_count": 2,
      "metadata": {
        "id": "868kmB8Jhknw"
      },
      "outputs": [],
      "source": [
        "def depurador_df(df, mensajes = True):\n",
        "  '''\n",
        "  Funcion que realiza la transformacion de la base de datos al formato adecuado para entrenamiento y consumo de los modelos\n",
        "  Argumentos:\n",
        "    * df: dataframe con la base de datos a transformar\n",
        "\n",
        "  Retorno:\n",
        "    * Base de datos transformada en un dataframe\n",
        "    * Especificaciones de la dimension de registros depurados y primeros registros si se desea\n",
        "  '''\n",
        "\n",
        "  # # # Ajuste variable floor\n",
        "  df['residence_floor'] = df['Floor'].str.split(' out of ', expand=True)[0]\n",
        "  df['residence_max_floor'] = df['Floor'].str.split(' out of ', expand=True)[1]\n",
        "\n",
        "  # Con nombre de piso\n",
        "  df['residence_floor'] = df['residence_floor'].apply(lambda x: re.sub(r'Ground', '1', x))         # Ground se vuelve el piso 1\n",
        "  df['residence_floor'] = df['residence_floor'].apply(lambda x: re.sub(r'Lower Basement', '1', x)) # Lower Basement se vuelve el piso 1\n",
        "  df['residence_floor'] = df.apply(lambda row: re.sub(r'Upper Basement', row['residence_max_floor'], row['residence_floor']) if row['residence_floor'] == 'Upper Basement' else row['residence_floor'], axis=1)\n",
        "  df['residence_max_floor'] = df.apply(lambda row: row['residence_floor'] if pd.isnull(row['residence_max_floor']) else row['residence_max_floor'], axis=1)\n",
        "\n",
        "  # Convertir a numericas\n",
        "  df['residence_floor'] = df['residence_floor'].astype(int)\n",
        "  df['residence_max_floor'] = df['residence_max_floor'].astype(int)\n",
        "\n",
        "  # # Revision variable Tenant Preferred\n",
        "  df[\"Tenant_bachelors\"] = df[\"Tenant Preferred\"].apply(lambda x: 1 if \"Bachelors\" in x else 0)\n",
        "  df[\"Tenant_family\"] = df[\"Tenant Preferred\"].apply(lambda x: 1 if \"Family\" in x else 0)\n",
        "\n",
        "  # # Selección de variables\n",
        "  df = df[['Rent',\t'BHK',\t'Size',\t'Area Type',\t'City',\t'Furnishing Status',\t'Bathroom',\t'Point of Contact',\t'residence_floor',\t'residence_max_floor',\t'Tenant_bachelors',\t'Tenant_family']]\n",
        "\n",
        "  # Dicotomizando caracteristicas tipo object\n",
        "  df = pd.get_dummies(df, columns=['Area Type', 'City', 'Furnishing Status', 'Point of Contact'], drop_first=True).astype(int)\n",
        "\n",
        "  # Mensaje de transformacion exitosa\n",
        "  print(\"SE HA DEPURADO LA BASE DE DATOS!!\" + \"\\n\")\n",
        "  if mensajes:\n",
        "    print(f'***Dimensiones finales {df.shape[0]} filas y {df.shape[1]} columnas *** \\n')\n",
        "    print(df.head(3))\n",
        "\n",
        "  return df"
      ]
    },
    {
      "cell_type": "code",
      "execution_count": 3,
      "metadata": {
        "id": "uXTLhTF_M_rj"
      },
      "outputs": [],
      "source": [
        "# Cargue de datos depurados\n",
        "ruta1 = input(\"Ingresar la ruta del archivo House_Rent_Dataset.csv (sin comillas): \").strip()\n",
        "\n",
        "df = pd.read_csv(\"House_Rent_Dataset_cleaned.csv\", sep = \",\")\n",
        "df_original = pd.read_csv(ruta1, sep = \",\")"
      ]
    },
    {
      "cell_type": "code",
      "execution_count": 4,
      "metadata": {
        "colab": {
          "base_uri": "https://localhost:8080/",
          "height": 261
        },
        "id": "aL8919zL6zkw",
        "outputId": "ebd156c5-6fc1-44a4-e4f8-7fde142a841f"
      },
      "outputs": [
        {
          "data": {
            "text/html": [
              "<div>\n",
              "<style scoped>\n",
              "    .dataframe tbody tr th:only-of-type {\n",
              "        vertical-align: middle;\n",
              "    }\n",
              "\n",
              "    .dataframe tbody tr th {\n",
              "        vertical-align: top;\n",
              "    }\n",
              "\n",
              "    .dataframe thead th {\n",
              "        text-align: right;\n",
              "    }\n",
              "</style>\n",
              "<table border=\"1\" class=\"dataframe\">\n",
              "  <thead>\n",
              "    <tr style=\"text-align: right;\">\n",
              "      <th></th>\n",
              "      <th>Rent</th>\n",
              "      <th>BHK</th>\n",
              "      <th>Size</th>\n",
              "      <th>Bathroom</th>\n",
              "      <th>residence_floor</th>\n",
              "      <th>residence_max_floor</th>\n",
              "      <th>Tenant_bachelors</th>\n",
              "      <th>Tenant_family</th>\n",
              "      <th>Area Type_Carpet Area</th>\n",
              "      <th>Area Type_Super Area</th>\n",
              "      <th>City_Chennai</th>\n",
              "      <th>City_Delhi</th>\n",
              "      <th>City_Hyderabad</th>\n",
              "      <th>City_Kolkata</th>\n",
              "      <th>City_Mumbai</th>\n",
              "      <th>Furnishing Status_Semi-Furnished</th>\n",
              "      <th>Furnishing Status_Unfurnished</th>\n",
              "      <th>Point of Contact_Contact Builder</th>\n",
              "      <th>Point of Contact_Contact Owner</th>\n",
              "    </tr>\n",
              "  </thead>\n",
              "  <tbody>\n",
              "    <tr>\n",
              "      <th>0</th>\n",
              "      <td>10000</td>\n",
              "      <td>2</td>\n",
              "      <td>1100</td>\n",
              "      <td>2</td>\n",
              "      <td>1</td>\n",
              "      <td>2</td>\n",
              "      <td>1</td>\n",
              "      <td>1</td>\n",
              "      <td>0</td>\n",
              "      <td>1</td>\n",
              "      <td>0</td>\n",
              "      <td>0</td>\n",
              "      <td>0</td>\n",
              "      <td>1</td>\n",
              "      <td>0</td>\n",
              "      <td>0</td>\n",
              "      <td>1</td>\n",
              "      <td>0</td>\n",
              "      <td>1</td>\n",
              "    </tr>\n",
              "    <tr>\n",
              "      <th>1</th>\n",
              "      <td>20000</td>\n",
              "      <td>2</td>\n",
              "      <td>800</td>\n",
              "      <td>1</td>\n",
              "      <td>1</td>\n",
              "      <td>3</td>\n",
              "      <td>1</td>\n",
              "      <td>1</td>\n",
              "      <td>0</td>\n",
              "      <td>1</td>\n",
              "      <td>0</td>\n",
              "      <td>0</td>\n",
              "      <td>0</td>\n",
              "      <td>1</td>\n",
              "      <td>0</td>\n",
              "      <td>1</td>\n",
              "      <td>0</td>\n",
              "      <td>0</td>\n",
              "      <td>1</td>\n",
              "    </tr>\n",
              "    <tr>\n",
              "      <th>2</th>\n",
              "      <td>17000</td>\n",
              "      <td>2</td>\n",
              "      <td>1000</td>\n",
              "      <td>1</td>\n",
              "      <td>1</td>\n",
              "      <td>3</td>\n",
              "      <td>1</td>\n",
              "      <td>1</td>\n",
              "      <td>0</td>\n",
              "      <td>1</td>\n",
              "      <td>0</td>\n",
              "      <td>0</td>\n",
              "      <td>0</td>\n",
              "      <td>1</td>\n",
              "      <td>0</td>\n",
              "      <td>1</td>\n",
              "      <td>0</td>\n",
              "      <td>0</td>\n",
              "      <td>1</td>\n",
              "    </tr>\n",
              "    <tr>\n",
              "      <th>3</th>\n",
              "      <td>10000</td>\n",
              "      <td>2</td>\n",
              "      <td>800</td>\n",
              "      <td>1</td>\n",
              "      <td>1</td>\n",
              "      <td>2</td>\n",
              "      <td>1</td>\n",
              "      <td>1</td>\n",
              "      <td>0</td>\n",
              "      <td>1</td>\n",
              "      <td>0</td>\n",
              "      <td>0</td>\n",
              "      <td>0</td>\n",
              "      <td>1</td>\n",
              "      <td>0</td>\n",
              "      <td>0</td>\n",
              "      <td>1</td>\n",
              "      <td>0</td>\n",
              "      <td>1</td>\n",
              "    </tr>\n",
              "    <tr>\n",
              "      <th>4</th>\n",
              "      <td>7500</td>\n",
              "      <td>2</td>\n",
              "      <td>850</td>\n",
              "      <td>1</td>\n",
              "      <td>1</td>\n",
              "      <td>2</td>\n",
              "      <td>1</td>\n",
              "      <td>0</td>\n",
              "      <td>1</td>\n",
              "      <td>0</td>\n",
              "      <td>0</td>\n",
              "      <td>0</td>\n",
              "      <td>0</td>\n",
              "      <td>1</td>\n",
              "      <td>0</td>\n",
              "      <td>0</td>\n",
              "      <td>1</td>\n",
              "      <td>0</td>\n",
              "      <td>1</td>\n",
              "    </tr>\n",
              "  </tbody>\n",
              "</table>\n",
              "</div>"
            ],
            "text/plain": [
              "    Rent  BHK  Size  Bathroom  residence_floor  residence_max_floor  \\\n",
              "0  10000    2  1100         2                1                    2   \n",
              "1  20000    2   800         1                1                    3   \n",
              "2  17000    2  1000         1                1                    3   \n",
              "3  10000    2   800         1                1                    2   \n",
              "4   7500    2   850         1                1                    2   \n",
              "\n",
              "   Tenant_bachelors  Tenant_family  Area Type_Carpet Area  \\\n",
              "0                 1              1                      0   \n",
              "1                 1              1                      0   \n",
              "2                 1              1                      0   \n",
              "3                 1              1                      0   \n",
              "4                 1              0                      1   \n",
              "\n",
              "   Area Type_Super Area  City_Chennai  City_Delhi  City_Hyderabad  \\\n",
              "0                     1             0           0               0   \n",
              "1                     1             0           0               0   \n",
              "2                     1             0           0               0   \n",
              "3                     1             0           0               0   \n",
              "4                     0             0           0               0   \n",
              "\n",
              "   City_Kolkata  City_Mumbai  Furnishing Status_Semi-Furnished  \\\n",
              "0             1            0                                 0   \n",
              "1             1            0                                 1   \n",
              "2             1            0                                 1   \n",
              "3             1            0                                 0   \n",
              "4             1            0                                 0   \n",
              "\n",
              "   Furnishing Status_Unfurnished  Point of Contact_Contact Builder  \\\n",
              "0                              1                                 0   \n",
              "1                              0                                 0   \n",
              "2                              0                                 0   \n",
              "3                              1                                 0   \n",
              "4                              1                                 0   \n",
              "\n",
              "   Point of Contact_Contact Owner  \n",
              "0                               1  \n",
              "1                               1  \n",
              "2                               1  \n",
              "3                               1  \n",
              "4                               1  "
            ]
          },
          "execution_count": 4,
          "metadata": {},
          "output_type": "execute_result"
        }
      ],
      "source": [
        "df.head()"
      ]
    },
    {
      "cell_type": "code",
      "execution_count": 5,
      "metadata": {
        "id": "_gBCd5U8DWYS"
      },
      "outputs": [],
      "source": [
        "# # Division de la base en entrenamiento y test\n",
        "x = df.drop('Rent', axis=1)\n",
        "y = df['Rent']"
      ]
    },
    {
      "cell_type": "code",
      "execution_count": 6,
      "metadata": {
        "colab": {
          "base_uri": "https://localhost:8080/"
        },
        "id": "gj-MiqkMCxJw",
        "outputId": "da9eed30-1df4-480b-803f-9ba5dd04f2f2"
      },
      "outputs": [
        {
          "name": "stdout",
          "output_type": "stream",
          "text": [
            "x_train:  (3416, 18)\n",
            "x_test:  (950, 18)\n",
            "x_val:  (380, 18)\n"
          ]
        }
      ],
      "source": [
        "# Estandarizacion\n",
        "scaler = StandardScaler()\n",
        "x = scaler.fit_transform(x)\n",
        "\n",
        "# # Entrenamiento vs test vs validacion\n",
        "x_train, x_test, y_train, y_test = train_test_split(x, y, test_size=0.20, random_state=42)\n",
        "\n",
        "# # Validacion intra modelo\n",
        "x_train, x_val, y_train, y_val = train_test_split(x_train, y_train, test_size=0.10, random_state=42)\n",
        "\n",
        "# Dimensiones\n",
        "print(\"x_train: \",  x_train.shape)\n",
        "print(\"x_test: \", x_test.shape)\n",
        "print(\"x_val: \", x_val.shape)"
      ]
    },
    {
      "cell_type": "code",
      "execution_count": 7,
      "metadata": {
        "id": "mCjyFxoW6znH"
      },
      "outputs": [],
      "source": [
        "# Definicion de la Arquitectura\n",
        "model = keras.Sequential([\n",
        "    layers.Dense(128, activation='relu', kernel_regularizer = regularizers.l1_l2(l1 = 0.001, l2 = 0.001), input_shape=(x_train.shape[1],)),\n",
        "    layers.Dense(64, activation='relu', kernel_regularizer = regularizers.l1_l2(l1 = 0.001, l2 = 0.001)),\n",
        "    layers.Dense(32, activation='relu', kernel_regularizer = regularizers.l1_l2(l1 = 0.001, l2 = 0.001)),\n",
        "    layers.Dense(16, activation='relu'),\n",
        "    layers.Dense(8, activation='relu'),\n",
        "    layers.Dense(1, activation='linear')\n",
        "])\n",
        "\n",
        "# Compilar el modelo\n",
        "model.compile(optimizer='adam',  # RMSprop, adam\n",
        "              loss='mean_squared_error',\n",
        "              metrics=['mape'])\n",
        "\n",
        "# Entrenando el modelo\n",
        "history = model.fit(x_train, y_train,\n",
        "                    epochs = 50,\n",
        "                    batch_size = 16,\n",
        "                    verbose = 0,\n",
        "                    validation_data = (x_val, y_val)\n",
        ")\n"
      ]
    },
    {
      "cell_type": "code",
      "execution_count": 8,
      "metadata": {
        "colab": {
          "base_uri": "https://localhost:8080/",
          "height": 469
        },
        "id": "bMWx46rx6zpX",
        "outputId": "f821c117-e66d-490f-963f-5853ab06e4b4"
      },
      "outputs": [
        {
          "data": {
            "image/png": "[encoded data removed]",
            "text/plain": [
              "<Figure size 1500x500 with 2 Axes>"
            ]
          },
          "metadata": {},
          "output_type": "display_data"
        }
      ],
      "source": [
        "#Create a grid of plots\n",
        "fig, axes = plt.subplots(1, 2, figsize=(15, 5))\n",
        "\n",
        "#Plot MAPE on the first subplot\n",
        "axes[0].plot(history.history['mape'])\n",
        "axes[0].plot(history.history['val_mape'])\n",
        "axes[0].set_title('Model MAPE')\n",
        "axes[0].set_ylabel('MAPE')\n",
        "axes[0].set_xlabel('Epoch')\n",
        "axes[0].legend(['Train', 'Validation'], loc='upper left')\n",
        "\n",
        "#Plot Loss on the second subplot\n",
        "axes[1].plot(history.history['loss'])\n",
        "axes[1].plot(history.history['val_loss'])\n",
        "axes[1].set_title('Model Loss')\n",
        "axes[1].set_ylabel('Loss')\n",
        "axes[1].set_xlabel('Epoch')\n",
        "axes[1].legend(['Train', 'Validation'], loc='upper left')\n",
        "\n",
        "plt.tight_layout()  # Adjusts subplot parameters for a tight layout\n",
        "plt.show()\n"
      ]
    },
    {
      "cell_type": "markdown",
      "metadata": {
        "id": "FJQXVifITl9O"
      },
      "source": [
        "## Evaluacion en datos de entrenamiento ; metricas de desempeño"
      ]
    },
    {
      "cell_type": "code",
      "execution_count": 9,
      "metadata": {
        "id": "i2EdwsEY6zrf"
      },
      "outputs": [],
      "source": [
        "def evaluar_modelo(model, x_test, y_test):\n",
        "    y_pred = model.predict(x_test)\n",
        "    # Calcular métricas de evaluación\n",
        "    mse = mean_squared_error(y_test, y_pred)\n",
        "    rmse = np.sqrt(mse)\n",
        "    mae = mean_absolute_error(y_test, y_pred)\n",
        "    mape = mean_absolute_percentage_error(y_test, y_pred)\n",
        "    r2 = r2_score(y_test, y_pred)\n",
        "\n",
        "    # Guardar resultados en df\n",
        "    results = pd.DataFrame({\n",
        "        'MSE': [mse],\n",
        "        'RMSE': [rmse],\n",
        "        'MAE': [mae],\n",
        "        'MAPE': [mape],\n",
        "        'R2': [r2]\n",
        "    })\n",
        "\n",
        "    return results"
      ]
    },
    {
      "cell_type": "code",
      "execution_count": 10,
      "metadata": {
        "colab": {
          "base_uri": "https://localhost:8080/",
          "height": 98
        },
        "id": "1EJj5r-n6zto",
        "outputId": "2680eccd-8046-4d9e-ac6e-d4eb6b23c461"
      },
      "outputs": [
        {
          "name": "stdout",
          "output_type": "stream",
          "text": [
            "30/30 [==============================] - 0s 778us/step\n"
          ]
        },
        {
          "data": {
            "text/html": [
              "<div>\n",
              "<style scoped>\n",
              "    .dataframe tbody tr th:only-of-type {\n",
              "        vertical-align: middle;\n",
              "    }\n",
              "\n",
              "    .dataframe tbody tr th {\n",
              "        vertical-align: top;\n",
              "    }\n",
              "\n",
              "    .dataframe thead th {\n",
              "        text-align: right;\n",
              "    }\n",
              "</style>\n",
              "<table border=\"1\" class=\"dataframe\">\n",
              "  <thead>\n",
              "    <tr style=\"text-align: right;\">\n",
              "      <th></th>\n",
              "      <th>MSE</th>\n",
              "      <th>RMSE</th>\n",
              "      <th>MAE</th>\n",
              "      <th>MAPE</th>\n",
              "      <th>R2</th>\n",
              "    </tr>\n",
              "  </thead>\n",
              "  <tbody>\n",
              "    <tr>\n",
              "      <th>0</th>\n",
              "      <td>1.213371e+09</td>\n",
              "      <td>34833.470285</td>\n",
              "      <td>13301.715795</td>\n",
              "      <td>0.44051</td>\n",
              "      <td>0.695545</td>\n",
              "    </tr>\n",
              "  </tbody>\n",
              "</table>\n",
              "</div>"
            ],
            "text/plain": [
              "            MSE          RMSE           MAE     MAPE        R2\n",
              "0  1.213371e+09  34833.470285  13301.715795  0.44051  0.695545"
            ]
          },
          "execution_count": 10,
          "metadata": {},
          "output_type": "execute_result"
        }
      ],
      "source": [
        "evaluar_modelo(model, x_test, y_test)"
      ]
    }
  ],
  "metadata": {
    "colab": {
      "provenance": []
    },
    "kernelspec": {
      "display_name": "base",
      "language": "python",
      "name": "python3"
    },
    "language_info": {
      "codemirror_mode": {
        "name": "ipython",
        "version": 3
      },
      "file_extension": ".py",
      "mimetype": "text/x-python",
      "name": "python",
      "nbconvert_exporter": "python",
      "pygments_lexer": "ipython3",
      "version": "3.10.9"
    }
  },
  "nbformat": 4,
  "nbformat_minor": 0
}
